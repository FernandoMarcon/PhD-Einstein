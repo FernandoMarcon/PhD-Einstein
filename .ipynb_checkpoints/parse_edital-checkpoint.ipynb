{
 "cells": [
  {
   "cell_type": "markdown",
   "metadata": {},
   "source": [
    "# Main Research Areas and Investigators\n",
    "\n",
    "> [Mestrado e Doutorado em Ciências da Saúde](https://ensino.einstein.br/mestrado-doutorado/pt-br)\n",
    "\n",
    "> Programa _Strictu Sensu_ Einstein \n",
    "\n",
    "> 2022\n",
    "\n",
    "> \n",
    "\n"
   ]
  },
  {
   "cell_type": "code",
   "execution_count": 1,
   "metadata": {},
   "outputs": [],
   "source": [
    "import pandas as pd\n",
    "import tabula"
   ]
  },
  {
   "cell_type": "markdown",
   "metadata": {},
   "source": [
    "## Data\n",
    "Retrieve tabular data in pdf, and store it in a dataframe.m\n"
   ]
  },
  {
   "cell_type": "code",
   "execution_count": 2,
   "metadata": {},
   "outputs": [
    {
     "data": {
      "text/html": [
       "<div>\n",
       "<style scoped>\n",
       "    .dataframe tbody tr th:only-of-type {\n",
       "        vertical-align: middle;\n",
       "    }\n",
       "\n",
       "    .dataframe tbody tr th {\n",
       "        vertical-align: top;\n",
       "    }\n",
       "\n",
       "    .dataframe thead th {\n",
       "        text-align: right;\n",
       "    }\n",
       "</style>\n",
       "<table border=\"1\" class=\"dataframe\">\n",
       "  <thead>\n",
       "    <tr style=\"text-align: right;\">\n",
       "      <th></th>\n",
       "      <th>Docente</th>\n",
       "      <th>Linha de pesquisa</th>\n",
       "      <th>E-mail</th>\n",
       "      <th>Link Currículo Lattes</th>\n",
       "    </tr>\n",
       "  </thead>\n",
       "  <tbody>\n",
       "    <tr>\n",
       "      <th>0</th>\n",
       "      <td>Marcelino De Souza Durao Junior</td>\n",
       "      <td>Medicina Crítica</td>\n",
       "      <td>marcelino.junior@einstein.br</td>\n",
       "      <td>http://lattes.cnpq.br/2520100158218531</td>\n",
       "    </tr>\n",
       "    <tr>\n",
       "      <th>1</th>\n",
       "      <td>Marcelo Passos Teivelis</td>\n",
       "      <td>Envelhecimento</td>\n",
       "      <td>marcelo.teivelis@einstein.br</td>\n",
       "      <td>http://lattes.cnpq.br/3054761913682159</td>\n",
       "    </tr>\n",
       "    <tr>\n",
       "      <th>2</th>\n",
       "      <td>Mario Lenza</td>\n",
       "      <td>Envelhecimento</td>\n",
       "      <td>mario.lenza@einstein.br</td>\n",
       "      <td>http://lattes.cnpq.br/5788521527100081</td>\n",
       "    </tr>\n",
       "    <tr>\n",
       "      <th>3</th>\n",
       "      <td>Moisés Cohen</td>\n",
       "      <td>Envelhecimento</td>\n",
       "      <td>m.cohen@uol.com.br;</td>\n",
       "      <td>http://lattes.cnpq.br/6174355233304675</td>\n",
       "    </tr>\n",
       "    <tr>\n",
       "      <th>4</th>\n",
       "      <td>Nelson Hamerschlak</td>\n",
       "      <td>Medicina Molecular</td>\n",
       "      <td>hamer@einstein.br</td>\n",
       "      <td>http://lattes.cnpq.br/6838231541739860</td>\n",
       "    </tr>\n",
       "  </tbody>\n",
       "</table>\n",
       "</div>"
      ],
      "text/plain": [
       "                           Docente   Linha de pesquisa  \\\n",
       "0  Marcelino De Souza Durao Junior    Medicina Crítica   \n",
       "1          Marcelo Passos Teivelis      Envelhecimento   \n",
       "2                      Mario Lenza      Envelhecimento   \n",
       "3                     Moisés Cohen      Envelhecimento   \n",
       "4               Nelson Hamerschlak  Medicina Molecular   \n",
       "\n",
       "                         E-mail                   Link Currículo Lattes  \n",
       "0  marcelino.junior@einstein.br  http://lattes.cnpq.br/2520100158218531  \n",
       "1  marcelo.teivelis@einstein.br  http://lattes.cnpq.br/3054761913682159  \n",
       "2       mario.lenza@einstein.br  http://lattes.cnpq.br/5788521527100081  \n",
       "3           m.cohen@uol.com.br;  http://lattes.cnpq.br/6174355233304675  \n",
       "4             hamer@einstein.br  http://lattes.cnpq.br/6838231541739860  "
      ]
     },
     "execution_count": 2,
     "metadata": {},
     "output_type": "execute_result"
    }
   ],
   "source": [
    "df = tabula.read_pdf('edital.pdf', pages='all')[1]\n",
    "df.rename({'Linha de pesquisa':'LinhaPesquisa','Link Currículo Lattes':'Lattes'},inplace=True)\n",
    "df.head()"
   ]
  },
  {
   "cell_type": "code",
   "execution_count": 3,
   "metadata": {},
   "outputs": [
    {
     "data": {
      "text/html": [
       "<div>\n",
       "<style scoped>\n",
       "    .dataframe tbody tr th:only-of-type {\n",
       "        vertical-align: middle;\n",
       "    }\n",
       "\n",
       "    .dataframe tbody tr th {\n",
       "        vertical-align: top;\n",
       "    }\n",
       "\n",
       "    .dataframe thead th {\n",
       "        text-align: right;\n",
       "    }\n",
       "</style>\n",
       "<table border=\"1\" class=\"dataframe\">\n",
       "  <thead>\n",
       "    <tr style=\"text-align: right;\">\n",
       "      <th></th>\n",
       "      <th>Docente</th>\n",
       "      <th>Linha de pesquisa</th>\n",
       "      <th>E-mail</th>\n",
       "      <th>Link Currículo Lattes</th>\n",
       "    </tr>\n",
       "  </thead>\n",
       "  <tbody>\n",
       "    <tr>\n",
       "      <th>16</th>\n",
       "      <td>Sérgio Eduardo Alonso Araújo</td>\n",
       "      <td>Envelhecimento</td>\n",
       "      <td>sergio.araujo@einstein.br</td>\n",
       "      <td>http://lattes.cnpq.br/3226965570401282</td>\n",
       "    </tr>\n",
       "    <tr>\n",
       "      <th>17</th>\n",
       "      <td>Sérgio Podgaec</td>\n",
       "      <td>Medicina Molecular</td>\n",
       "      <td>sergio.podgaec@einstein.br</td>\n",
       "      <td>http://lattes.cnpq.br/8610641646795768</td>\n",
       "    </tr>\n",
       "    <tr>\n",
       "      <th>18</th>\n",
       "      <td>Thiago Domingos Correa</td>\n",
       "      <td>Medicina Crítica</td>\n",
       "      <td>thiago.correa@einstein.br</td>\n",
       "      <td>http://lattes.cnpq.br/7355330306578276</td>\n",
       "    </tr>\n",
       "    <tr>\n",
       "      <th>19</th>\n",
       "      <td>Welbert De Oliveira Pereira</td>\n",
       "      <td>Medicina Molecular</td>\n",
       "      <td>welbert.pereira@einstein.br</td>\n",
       "      <td>http://lattes.cnpq.br/3590811502731830</td>\n",
       "    </tr>\n",
       "    <tr>\n",
       "      <th>20</th>\n",
       "      <td>Yuri Longatto Boteon</td>\n",
       "      <td>Medicina Crítica</td>\n",
       "      <td>yuri.boteon@einstein.br</td>\n",
       "      <td>http://lattes.cnpq.br/4952815451313867</td>\n",
       "    </tr>\n",
       "  </tbody>\n",
       "</table>\n",
       "</div>"
      ],
      "text/plain": [
       "                         Docente   Linha de pesquisa  \\\n",
       "16  Sérgio Eduardo Alonso Araújo      Envelhecimento   \n",
       "17                Sérgio Podgaec  Medicina Molecular   \n",
       "18        Thiago Domingos Correa    Medicina Crítica   \n",
       "19   Welbert De Oliveira Pereira  Medicina Molecular   \n",
       "20          Yuri Longatto Boteon    Medicina Crítica   \n",
       "\n",
       "                         E-mail                   Link Currículo Lattes  \n",
       "16    sergio.araujo@einstein.br  http://lattes.cnpq.br/3226965570401282  \n",
       "17   sergio.podgaec@einstein.br  http://lattes.cnpq.br/8610641646795768  \n",
       "18    thiago.correa@einstein.br  http://lattes.cnpq.br/7355330306578276  \n",
       "19  welbert.pereira@einstein.br  http://lattes.cnpq.br/3590811502731830  \n",
       "20      yuri.boteon@einstein.br  http://lattes.cnpq.br/4952815451313867  "
      ]
     },
     "execution_count": 3,
     "metadata": {},
     "output_type": "execute_result"
    }
   ],
   "source": [
    "df.tail()"
   ]
  },
  {
   "cell_type": "markdown",
   "metadata": {},
   "source": [
    "# Network Visualization \n",
    "## Creat Nodes\n",
    "Create two types of nodes (\"Docente\" and \"LinhaPesquisa\")."
   ]
  },
  {
   "cell_type": "code",
   "execution_count": 4,
   "metadata": {},
   "outputs": [],
   "source": [
    "docentes = df[['Docente']].assign(color='red',type='Docente',size=10).set_index('Docente').to_dict('index')\n",
    "linhas = df[['Linha de pesquisa']].assign(color='tab:blue',type='LinhaPesquisa',size=30).drop_duplicates().set_index('Linha de pesquisa').to_dict('index')\n",
    "nodes = {**docentes,   **linhas}"
   ]
  },
  {
   "cell_type": "markdown",
   "metadata": {},
   "source": [
    "## Create Edges\n",
    "Group investigators by research area."
   ]
  },
  {
   "cell_type": "code",
   "execution_count": 5,
   "metadata": {},
   "outputs": [],
   "source": [
    "edges = list(zip(df['Docente'], df['Linha de pesquisa']))"
   ]
  },
  {
   "cell_type": "markdown",
   "metadata": {},
   "source": [
    "## Create graph using NetworkX"
   ]
  },
  {
   "cell_type": "code",
   "execution_count": 6,
   "metadata": {},
   "outputs": [],
   "source": [
    "import networkx as nx\n",
    "\n",
    "g = nx.Graph()\n",
    "g.add_nodes_from(n for n in nodes.items())\n",
    "g.add_edges_from(((u, v) for u, v in edges))"
   ]
  },
  {
   "cell_type": "code",
   "execution_count": 7,
   "metadata": {},
   "outputs": [
    {
     "data": {
      "image/png": "[encoded data removed]",
      "text/plain": [
       "<Figure size 432x288 with 1 Axes>"
      ]
     },
     "metadata": {},
     "output_type": "display_data"
    }
   ],
   "source": [
    "base_options = dict(with_labels=True)\n",
    "node_colors = [d[\"color\"] for _, d in g.nodes(data=True)]\n",
    "# nx.draw_networkx(g, node_color=node_colors, **base_options,font_size=1)\n",
    "nx.draw_networkx(g, node_color=node_colors, **base_options,font_size=1)"
   ]
  },
  {
   "cell_type": "markdown",
   "metadata": {},
   "source": [
    "## Add networkx graph (g) to pyvis to become interactive."
   ]
  },
  {
   "cell_type": "code",
   "execution_count": 8,
   "metadata": {},
   "outputs": [],
   "source": [
    "# import matplotlib.pyplot as plt\n",
    "\n",
    "# plt.rcParams[\"figure.figsize\"] = (200,50)"
   ]
  },
  {
   "cell_type": "code",
   "execution_count": 22,
   "metadata": {},
   "outputs": [
    {
     "data": {
      "text/html": [
       "\n",
       "        <iframe\n",
       "            width=\"1000\"\n",
       "            height=\"1100\"\n",
       "            src=\"./docs/index.html\"\n",
       "            frameborder=\"0\"\n",
       "            allowfullscreen\n",
       "            \n",
       "        ></iframe>\n",
       "        "
      ],
      "text/plain": [
       "<IPython.lib.display.IFrame at 0x7fcd9c692d90>"
      ]
     },
     "execution_count": 22,
     "metadata": {},
     "output_type": "execute_result"
    }
   ],
   "source": [
    "from pyvis.network import Network\n",
    "# from IPython.core.display import display, HTML\n",
    "\n",
    "net=Network(\n",
    "            '1100',\n",
    "            '1000',\n",
    "            notebook=True,\n",
    "            heading='<h2>Pós-Graduação em Ciências da Saúde</><h3>Docentes <em>Stricto Sensus</em> 2021</h3>'\n",
    "           )\n",
    "net.set_options(''' var options = {\n",
    "    \"edges\": {\"smooth\": {\"type\": \"continuous\",\"roundness\": 0.45}},\n",
    "    \"physics\": { \"barnesHut\": { \"springConstant\": 0.035}}\n",
    "    }''')  \n",
    "net.from_nx(g)\n",
    "net.show('./docs/index.html')\n",
    "# display(HTML(\"./docs/index.html\"))\n"
   ]
  },
  {
   "cell_type": "code",
   "execution_count": null,
   "metadata": {},
   "outputs": [],
   "source": []
  },
  {
   "cell_type": "code",
   "execution_count": null,
   "metadata": {},
   "outputs": [],
   "source": []
  }
 ],
 "metadata": {
  "interpreter": {
   "hash": "916dbcbb3f70747c44a77c7bcd40155683ae19c65e1c03b4aa3499c5328201f1"
  },
  "kernelspec": {
   "display_name": "Python 3 (ipykernel)",
   "language": "python",
   "name": "python3"
  },
  "language_info": {
   "codemirror_mode": {
    "name": "ipython",
    "version": 3
   },
   "file_extension": ".py",
   "mimetype": "text/x-python",
   "name": "python",
   "nbconvert_exporter": "python",
   "pygments_lexer": "ipython3",
   "version": "3.8.10"
  }
 },
 "nbformat": 4,
 "nbformat_minor": 2
}
